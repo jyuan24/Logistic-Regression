{
 "cells": [
  {
   "cell_type": "markdown",
   "metadata": {
    "colab_type": "text",
    "id": "Q8X8xDwS6vgS"
   },
   "source": [
    "# Logistic Regression"
   ]
  },
  {
   "cell_type": "markdown",
   "metadata": {
    "colab_type": "text",
    "id": "PEGG4I6n60cM"
   },
   "source": [
    "## Importing the libraries"
   ]
  },
  {
   "cell_type": "code",
   "execution_count": 159,
   "metadata": {
    "colab": {},
    "colab_type": "code",
    "id": "D4b029YC7C-y"
   },
   "outputs": [],
   "source": [
    "# import pandas as pd\n",
    "\n",
    "\n",
    "import pandas as pd\n",
    "import numpy as np"
   ]
  },
  {
   "cell_type": "markdown",
   "metadata": {
    "colab_type": "text",
    "id": "Aa536pRY7Eq5"
   },
   "source": [
    "## Importing the dataset"
   ]
  },
  {
   "cell_type": "code",
   "execution_count": 160,
   "metadata": {
    "colab": {},
    "colab_type": "code",
    "id": "4POXlqg47Ny3"
   },
   "outputs": [
    {
     "name": "stdout",
     "output_type": "stream",
     "text": [
      "[[ 5  1  1 ...  3  1  1]\n",
      " [ 5  4  4 ...  3  2  1]\n",
      " [ 3  1  1 ...  3  1  1]\n",
      " ...\n",
      " [ 5 10 10 ...  8 10  2]\n",
      " [ 4  8  6 ... 10  6  1]\n",
      " [ 4  8  8 ... 10  4  1]]\n",
      "[2 2 2 2 2 4 2 2 2 2 2 2 4 2 4 4 2 2 4 2 4 4 2 2 4 2 2 2 2 2 2 4 2 2 2 4 2\n",
      " 4 4 4 4 4 4 2 4 2 2 4 4 4 4 4 4 4 4 4 4 4 4 2 4 4 2 4 2 4 4 2 2 4 2 4 4 2\n",
      " 2 2 2 2 2 2 2 2 4 4 4 4 2 2 2 2 2 2 2 2 2 2 4 4 4 4 2 4 4 4 4 4 2 4 2 4 4\n",
      " 4 2 2 2 4 2 2 2 2 4 4 4 2 4 2 4 2 2 2 4 2 2 2 2 2 2 2 2 4 2 2 4 2 2 4 2 4\n",
      " 4 2 2 4 2 2 4 4 2 2 2 2 4 4 2 2 2 2 2 4 4 4 2 4 2 4 2 2 2 4 4 2 4 4 4 2 4\n",
      " 4 2 2 2 2 2 2 2 2 4 4 2 2 2 4 4 2 2 2 4 4 2 4 4 4 2 2 4 2 2 4 4 4 4 2 4 4\n",
      " 2 4 4 4 2 4 2 4 4 4 4 2 2 2 2 2 2 4 4 2 2 4 2 4 4 4 2 2 2 2 4 4 4 4 4 2 4\n",
      " 4 4 2 4 2 4 4 2 2 2 2 4 2 2 4 4 4 4 4 2 4 4 2 2 4 4 2 2 4 4 2 4 2 4 4 2 2\n",
      " 4 2 2 2 4 2 2 4 4 2 2 4 2 4 2 2 4 2 4 4 4 2 2 4 4 2 4 2 2 4 4 2 2 2 4 2 2\n",
      " 2 4 4 2 2 2 4 2 2 4 4 4 4 4 4 2 2 2 2 4 4 2 2 2 2 2 2 2 2 2 2 2 2 2 4 2 2\n",
      " 2 2 4 2 2 2 2 4 2 2 2 2 2 2 2 2 4 2 2 2 2 2 2 2 2 2 2 4 2 4 2 4 2 2 2 2 4\n",
      " 2 2 2 4 2 4 2 2 2 2 2 2 2 4 4 2 2 2 4 2 2 2 2 2 2 2 2 4 2 2 2 4 2 4 4 4 2\n",
      " 2 2 2 2 2 2 4 4 4 2 2 2 2 2 2 2 2 2 2 2 4 2 2 4 4 2 2 2 4 4 4 2 4 2 4 2 2\n",
      " 2 2 2 2 2 2 2 2 2 2 4 2 2 2 2 2 2 2 4 4 2 2 2 4 2 2 4 4 2 2 2 2 2 2 4 2 2\n",
      " 2 2 2 2 2 2 2 2 2 2 2 2 2 4 2 2 4 2 2 2 2 2 2 2 2 2 2 2 2 2 2 2 4 2 2 4 4\n",
      " 4 4 2 2 4 2 2 2 2 2 2 4 4 2 2 2 4 2 4 2 4 4 4 2 4 2 2 2 2 2 2 2 2 4 4 4 2\n",
      " 2 4 2 4 4 4 2 2 2 2 2 2 2 2 2 2 2 2 4 2 2 2 2 2 2 4 2 2 4 2 2 2 2 2 2 2 2\n",
      " 2 2 2 4 2 2 2 2 2 2 2 2 2 4 2 2 2 2 2 2 2 2 2 4 4 4 2 2 2 2 2 2 2 2 2 4 4\n",
      " 2 2 2 2 2 2 2 2 2 4 2 2 2 2 4 4 4]\n"
     ]
    }
   ],
   "source": [
    "# dataset = pd.read_csv('breast_cancer.csv')\n",
    "# X = dataset.iloc[:, 1:-1].values\n",
    "# y = dataset.iloc[:, -1].values\n",
    "\n",
    "\n",
    "# imported data doc had no column name row, so below adds column names on import\n",
    "dataset = pd.read_csv('../Dataset/breast-cancer-wisconsin.data',\n",
    "                      names=['Sample code number', 'Clump Thickness', 'Uniformity of Cell Size', 'Uniformity of Cell Shape',\n",
    "                             'Marginal Adhesion', 'Single Epithelial Cell Size', 'Bare Nuclei', 'Bland Chromatin',\n",
    "                             'Normal Nucleoli', 'Mitoses', 'Class']\n",
    "                     )\n",
    "# after trying to use astype to change column to int64, received error saying couldn't change '?', so below removes rows with '?'\n",
    "dataset = dataset[(dataset != '?').all(1)]\n",
    "dataset['Bare Nuclei'] = dataset['Bare Nuclei'].astype('int64')\n",
    "X = dataset.iloc[:, 1:-1].values\n",
    "y = dataset.iloc[:, -1].values\n",
    "print(X)\n",
    "print(y)"
   ]
  },
  {
   "cell_type": "markdown",
   "metadata": {
    "colab_type": "text",
    "id": "0AnzJQCj7TLO"
   },
   "source": [
    "## Splitting the dataset into the Training set and Test set"
   ]
  },
  {
   "cell_type": "code",
   "execution_count": 161,
   "metadata": {
    "colab": {},
    "colab_type": "code",
    "id": "WOQwyng57dp2"
   },
   "outputs": [
    {
     "name": "stdout",
     "output_type": "stream",
     "text": [
      "[[10  1  1 ...  5  4  1]\n",
      " [ 1  1  1 ...  3  1  1]\n",
      " [ 5  1  1 ...  3  1  1]\n",
      " ...\n",
      " [ 1  1  1 ...  1  1  1]\n",
      " [ 3  1  1 ...  2  1  1]\n",
      " [10  9  7 ...  7  7  1]]\n",
      "[[ 1  1  1 ...  1  1  1]\n",
      " [ 3  1  1 ...  2  1  1]\n",
      " [ 5  5  5 ...  4  3  1]\n",
      " ...\n",
      " [ 4  1  1 ...  1  1  1]\n",
      " [ 4 10  4 ...  9 10  1]\n",
      " [ 2  1  1 ...  2  1  1]]\n",
      "[4 2 2 2 4 2 2 2 2 4 2 4 2 4 4 2 2 2 2 4 4 2 4 4 4 4 4 4 2 2 2 2 2 2 4 4 4\n",
      " 2 2 2 4 2 2 4 4 2 4 2 2 4 4 2 2 2 2 2 2 2 2 2 2 4 2 2 2 2 2 4 4 2 4 2 2 2\n",
      " 4 2 2 2 2 4 4 2 2 4 4 2 2 4 4 2 4 2 4 4 2 2 2 4 2 4 2 4 2 2 2 2 2 4 2 2 4\n",
      " 2 2 4 2 2 2 2 2 4 2 2 4 2 4 2 2 4 4 4 2 2 2 2 2 2 4 4 2 2 2 2 2 2 2 4 2 2\n",
      " 4 2 2 2 2 2 2 2 4 2 2 2 4 4 2 4 2 2 2 4 2 2 2 4 4 2 4 2 2 4 2 2 2 2 2 2 2\n",
      " 4 4 4 4 2 4 2 4 2 4 4 4 2 2 4 2 2 2 2 4 4 2 2 2 4 2 2 4 2 2 2 2 4 4 2 2 2\n",
      " 2 2 2 2 2 2 2 2 4 2 4 2 2 2 2 2 2 4 4 4 4 2 2 4 2 4 2 4 2 2 2 2 4 2 4 2 2\n",
      " 2 2 4 2 2 4 2 2 2 2 2 2 2 4 2 4 2 2 2 4 2 2 2 2 2 4 2 2 2 2 4 2 2 4 2 2 2\n",
      " 2 4 4 2 2 2 2 4 2 2 4 2 2 2 2 4 4 2 4 2 4 2 2 2 4 4 4 2 2 2 2 2 2 2 2 4 4\n",
      " 2 2 2 2 2 2 2 4 4 2 2 2 2 4 4 4 2 4 2 4 2 2 2 2 2 4 2 4 4 2 2 2 2 2 2 2 4\n",
      " 2 2 2 4 2 2 4 4 4 2 4 4 4 2 2 2 4 2 4 2 2 4 2 4 4 4 2 2 2 4 2 4 4 4 2 2 2\n",
      " 4 2 4 2 2 2 2 4 4 2 2 2 4 4 2 2 4 2 2 2 4 4 2 2 2 4 2 2 2 4 2 4 2 2 4 2 2\n",
      " 2 2 4 4 2 2 4 4 2 2 4 4 4 2 2 4 2 2 2 2 2 4 2 4 4 2 2 2 2 4 2 2 2 2 4 2 4\n",
      " 2 4 2 2 4 2 2 2 2 4 2 2 2 4 2 2 4 4 4 4 2 4 4 2 4 4 2 2 2 2 2 2 4 2 2 2 2\n",
      " 4 4 2 4 4 4 2 2 4 4 2 2 2 2 2 2 4 2 2 4 2 2 4 2 2 2 2 4]\n",
      "[2 2 4 4 2 2 2 4 2 2 4 2 4 2 2 2 4 4 4 2 2 2 4 2 4 4 2 2 2 4 2 4 4 2 2 2 4\n",
      " 4 2 4 2 2 2 2 2 2 2 4 2 2 4 2 4 2 2 2 4 2 2 4 2 2 2 2 2 2 2 2 4 4 2 2 2 2\n",
      " 2 2 4 2 2 2 4 2 4 2 2 4 2 2 4 2 4 2 4 4 4 2 4 4 4 2 2 2 4 4 2 2 4 4 2 2 4\n",
      " 2 2 4 2 2 2 4 2 2 2 4 2 2 4 4 2 4 2 4 2 2 4 2 2 4 2]\n"
     ]
    }
   ],
   "source": [
    "# from sklearn.model_selection import train_test_split\n",
    "# X_train, X_test, y_train, y_test = train_test_split(X, y, test_size = 0.2, random_state = 0)\n",
    "\n",
    "\n",
    "from sklearn.model_selection import train_test_split\n",
    "X_train, X_test, y_train, y_test = train_test_split(X, y, test_size=.2, random_state=0)\n",
    "print(X_train)\n",
    "print(X_test)\n",
    "print(y_train)\n",
    "print(y_test)\n",
    "\n",
    "# from sklearn.preprocessing import StandardScaler\n",
    "# sc = StandardScaler()\n",
    "# X_train = sc.fit_transform(X_train)\n",
    "# print(X_train)"
   ]
  },
  {
   "cell_type": "markdown",
   "metadata": {
    "colab_type": "text",
    "id": "pS1Q-n_A7iZ_"
   },
   "source": [
    "## Training the Logistic Regression model on the Training set"
   ]
  },
  {
   "cell_type": "code",
   "execution_count": 162,
   "metadata": {
    "colab": {
     "base_uri": "https://localhost:8080/",
     "height": 101
    },
    "colab_type": "code",
    "id": "9V-LgiUa78lX",
    "outputId": "ce5e5660-1b7c-4750-dc12-837be0ea2fc5"
   },
   "outputs": [
    {
     "data": {
      "text/plain": [
       "LogisticRegression()"
      ]
     },
     "execution_count": 162,
     "metadata": {},
     "output_type": "execute_result"
    }
   ],
   "source": [
    "# from sklearn.linear_model import LogisticRegression\n",
    "# classifier = LogisticRegression(random_state = 0)\n",
    "# classifier.fit(X_train, y_train)\n",
    "\n",
    "\n",
    "from sklearn.linear_model import LogisticRegression\n",
    "classifier = LogisticRegression()\n",
    "classifier.fit(X_train, y_train)"
   ]
  },
  {
   "cell_type": "markdown",
   "metadata": {
    "colab_type": "text",
    "id": "4cgD7EnB8Dnd"
   },
   "source": [
    "## Predicting the Test set results"
   ]
  },
  {
   "cell_type": "code",
   "execution_count": 163,
   "metadata": {
    "colab": {},
    "colab_type": "code",
    "id": "1B4zQvOq8M7H"
   },
   "outputs": [
    {
     "name": "stdout",
     "output_type": "stream",
     "text": [
      "[[2 2]\n",
      " [2 2]\n",
      " [4 4]\n",
      " [4 4]\n",
      " [2 2]\n",
      " [2 2]\n",
      " [2 2]\n",
      " [4 4]\n",
      " [2 2]\n",
      " [2 2]\n",
      " [4 4]\n",
      " [2 2]\n",
      " [4 4]\n",
      " [2 2]\n",
      " [2 2]\n",
      " [2 2]\n",
      " [4 4]\n",
      " [4 4]\n",
      " [4 4]\n",
      " [2 2]\n",
      " [2 2]\n",
      " [2 2]\n",
      " [4 4]\n",
      " [2 2]\n",
      " [4 4]\n",
      " [4 4]\n",
      " [2 2]\n",
      " [2 2]\n",
      " [2 2]\n",
      " [4 4]\n",
      " [2 2]\n",
      " [4 4]\n",
      " [4 4]\n",
      " [2 2]\n",
      " [2 2]\n",
      " [2 2]\n",
      " [4 4]\n",
      " [4 4]\n",
      " [2 2]\n",
      " [4 4]\n",
      " [2 2]\n",
      " [2 2]\n",
      " [2 2]\n",
      " [2 2]\n",
      " [2 2]\n",
      " [2 2]\n",
      " [2 2]\n",
      " [4 4]\n",
      " [2 2]\n",
      " [2 2]\n",
      " [4 4]\n",
      " [2 2]\n",
      " [4 4]\n",
      " [2 2]\n",
      " [2 2]\n",
      " [2 2]\n",
      " [4 4]\n",
      " [4 2]\n",
      " [2 2]\n",
      " [4 4]\n",
      " [2 2]\n",
      " [2 2]\n",
      " [2 2]\n",
      " [2 2]\n",
      " [2 2]\n",
      " [2 2]\n",
      " [2 2]\n",
      " [2 2]\n",
      " [4 4]\n",
      " [4 4]\n",
      " [2 2]\n",
      " [2 2]\n",
      " [2 2]\n",
      " [2 2]\n",
      " [2 2]\n",
      " [2 2]\n",
      " [4 4]\n",
      " [2 2]\n",
      " [2 2]\n",
      " [2 2]\n",
      " [4 4]\n",
      " [2 2]\n",
      " [4 4]\n",
      " [2 2]\n",
      " [2 2]\n",
      " [4 4]\n",
      " [2 2]\n",
      " [4 2]\n",
      " [4 4]\n",
      " [2 2]\n",
      " [4 4]\n",
      " [2 2]\n",
      " [4 4]\n",
      " [4 4]\n",
      " [2 4]\n",
      " [4 2]\n",
      " [4 4]\n",
      " [4 4]\n",
      " [4 4]\n",
      " [2 2]\n",
      " [2 2]\n",
      " [2 2]\n",
      " [4 4]\n",
      " [4 4]\n",
      " [2 2]\n",
      " [2 2]\n",
      " [4 4]\n",
      " [2 4]\n",
      " [2 2]\n",
      " [2 2]\n",
      " [4 4]\n",
      " [2 2]\n",
      " [2 2]\n",
      " [4 4]\n",
      " [2 2]\n",
      " [2 2]\n",
      " [2 2]\n",
      " [2 4]\n",
      " [2 2]\n",
      " [2 2]\n",
      " [2 2]\n",
      " [4 4]\n",
      " [2 2]\n",
      " [2 2]\n",
      " [4 4]\n",
      " [4 4]\n",
      " [2 2]\n",
      " [4 4]\n",
      " [2 2]\n",
      " [4 4]\n",
      " [2 2]\n",
      " [2 2]\n",
      " [4 4]\n",
      " [2 2]\n",
      " [2 2]\n",
      " [4 4]\n",
      " [2 2]]\n"
     ]
    }
   ],
   "source": [
    "# y_pred = classifier.predict(X_test)\n",
    "\n",
    "\n",
    "# print(sc.transform(X_test))\n",
    "# y_pred = classifier.predict(sc.transform(X_test))\n",
    "y_pred = classifier.predict(X_test)\n",
    "print(\n",
    "np.concatenate((y_pred.reshape(len(y_pred), 1), y_test.reshape(len(y_test), 1)), axis=1)\n",
    ")"
   ]
  },
  {
   "cell_type": "markdown",
   "metadata": {
    "colab_type": "text",
    "id": "26CHkZbs8Tu5"
   },
   "source": [
    "## Making the Confusion Matrix"
   ]
  },
  {
   "cell_type": "code",
   "execution_count": 164,
   "metadata": {
    "colab": {
     "base_uri": "https://localhost:8080/",
     "height": 50
    },
    "colab_type": "code",
    "id": "5BN8qx6e8aNZ",
    "outputId": "b7b0ba3d-3183-426c-f45a-72d5d8ddb075"
   },
   "outputs": [
    {
     "name": "stdout",
     "output_type": "stream",
     "text": [
      "[[84  3]\n",
      " [ 3 47]]\n",
      "0.9562043795620438\n"
     ]
    }
   ],
   "source": [
    "# from sklearn.metrics import confusion_matrix\n",
    "# cm = confusion_matrix(y_test, y_pred)\n",
    "# print(cm)\n",
    "\n",
    "\n",
    "from sklearn.metrics import confusion_matrix, accuracy_score\n",
    "cm = confusion_matrix(y_test, y_pred)\n",
    "print(cm)\n",
    "score = accuracy_score(y_test, y_pred)\n",
    "print(score)"
   ]
  },
  {
   "cell_type": "markdown",
   "metadata": {
    "colab_type": "text",
    "id": "kMErnLnu8hmb"
   },
   "source": [
    "## Computing the accuracy with k-Fold Cross Validation"
   ]
  },
  {
   "cell_type": "code",
   "execution_count": 165,
   "metadata": {
    "colab": {
     "base_uri": "https://localhost:8080/",
     "height": 50
    },
    "colab_type": "code",
    "id": "waJZi8fw8m_2",
    "outputId": "985787e6-54db-42ca-edde-950ade8d1ac6"
   },
   "outputs": [
    {
     "name": "stdout",
     "output_type": "stream",
     "text": [
      "[0.94545455 0.96363636 0.96363636 1.         0.94545455 1.\n",
      " 0.96296296 0.96296296 0.98148148 0.94444444]\n",
      "0.967003367003367\n",
      "Accuracy: 96.70 %\n",
      "Standard Deviation: 1.97 %\n"
     ]
    }
   ],
   "source": [
    "# from sklearn.model_selection import cross_val_score\n",
    "# accuracies = cross_val_score(estimator = classifier, X = X_train, y = y_train, cv = 10)\n",
    "# print(\"Accuracy: {:.2f} %\".format(accuracies.mean()*100))\n",
    "# print(\"Standard Deviation: {:.2f} %\".format(accuracies.std()*100))\n",
    "\n",
    "\n",
    "from sklearn.model_selection import cross_val_score\n",
    "accuracies = cross_val_score(estimator=classifier, X=X_train, y=y_train, cv=10)\n",
    "print(accuracies)\n",
    "print(sum(accuracies)/len(accuracies))\n",
    "print(\"Accuracy: {:.2f} %\".format(accuracies.mean()*100))\n",
    "print(\"Standard Deviation: {:.2f} %\".format(accuracies.std()*100))"
   ]
  }
 ],
 "metadata": {
  "colab": {
   "name": "Logistic Regression",
   "provenance": []
  },
  "kernelspec": {
   "display_name": "Python 3",
   "language": "python",
   "name": "python3"
  },
  "language_info": {
   "codemirror_mode": {
    "name": "ipython",
    "version": 3
   },
   "file_extension": ".py",
   "mimetype": "text/x-python",
   "name": "python",
   "nbconvert_exporter": "python",
   "pygments_lexer": "ipython3",
   "version": "3.8.5"
  }
 },
 "nbformat": 4,
 "nbformat_minor": 1
}
